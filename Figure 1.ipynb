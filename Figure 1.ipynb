{
 "cells": [
  {
   "cell_type": "code",
   "execution_count": null,
   "metadata": {
    "ExecuteTime": {
     "end_time": "2020-07-14T13:50:01.985230Z",
     "start_time": "2020-07-14T13:49:57.089279Z"
    }
   },
   "outputs": [],
   "source": [
    "from IPython.core.display import display, HTML\n",
    "display(HTML(\"<style>.container { width:80% !important; }</style>\")) \n",
    "import pandas as pd\n",
    "from obspy.clients.fdsn import Client\n",
    "from glob import glob\n",
    "import numpy as np\n",
    "from mpl_toolkits.basemap import Basemap\n",
    "import matplotlib.pyplot as plt\n",
    "import matplotlib.patches as mpatches"
   ]
  },
  {
   "cell_type": "code",
   "execution_count": null,
   "metadata": {
    "ExecuteTime": {
     "end_time": "2020-07-14T13:50:07.650075Z",
     "start_time": "2020-07-14T13:50:07.607155Z"
    },
    "scrolled": false
   },
   "outputs": [],
   "source": [
    "# Read in stations for which we have station csv information for\n",
    "df = pd.read_csv(r\"Supplementary Files/Table S1 - Lockdown stations.csv\", encoding='latin-1')\n",
    "df_no_ld = pd.read_csv(r\"Supplementary Files/Table S2 - Stations without lockdown.csv\", encoding='latin-1',)\n",
    "df_gaps =  pd.read_csv(r\"Supplementary Files/Table S3 - Stations with datagaps.csv\", encoding='latin-1',)\n",
    "print(\"Number of total stations analysed = {:}\".format(len(df)+len(df_no_ld)+len(df_gaps)))\n",
    "print(\"Number of stations with usable data = {:}\".format(len(df)+len(df_no_ld)))\n",
    "print(\"Number of stations with lockdown signal = {:}\".format(len(df)))"
   ]
  },
  {
   "cell_type": "code",
   "execution_count": null,
   "metadata": {
    "ExecuteTime": {
     "end_time": "2020-07-14T13:50:32.675112Z",
     "start_time": "2020-07-14T13:50:12.007422Z"
    }
   },
   "outputs": [],
   "source": [
    "# Now make the map!\n",
    "fig = plt.figure(figsize=(18,12))\n",
    "map = Basemap(projection='eck4',lon_0=0, resolution=\"l\")\n",
    "# plot coastlines, draw label meridians and parallels.\n",
    "map.drawparallels(np.arange(-90,90,30),labels=[1,0,0,0])\n",
    "map.drawmeridians(np.arange(map.lonmin,map.lonmax+30,60),labels=[0,0,0,1])\n",
    "map.drawmapboundary(fill_color='aqua')\n",
    "#map.fillcontinents(color='gray',lake_color='aqua')\n",
    "map.shadedrelief(scale=0.25)\n",
    "map.drawcoastlines()\n",
    "map.drawcountries(color=\"white\")\n",
    "\n",
    "\n",
    "SIZE=80\n",
    "\n",
    "ax = plt.subplot(111)\n",
    "\n",
    "# Stations without lockdown\n",
    "df_nold_rs = df_no_ld[df_no_ld[\"Station_Code\"].str[0:2] == \"AM\"]\n",
    "df_nold_rs_x, df_nold_rs_y = map(df_nold_rs[\"longitude\"].to_list(), df_nold_rs[\"latitude\"].to_list())\n",
    "pop = (1000/((df_nold_rs[\"pop_den_2.5min\"]+1)**0.4)).to_list()\n",
    "ax.scatter(df_nold_rs_x, df_nold_rs_y, pop ,marker='^',color='blue',alpha=0.5, zorder=10, edgecolor=\"k\")\n",
    "df_nold_bb = df_no_ld[df_no_ld[\"Station_Code\"].str[0:2] != \"AM\"]\n",
    "pop = (1000/((df_nold_bb[\"pop_den_2.5min\"]+1)**0.4)).to_list()\n",
    "df_nold_bb_x, df_nold_bb_y = map(df_nold_bb[\"longitude\"].to_list(), df_nold_bb[\"latitude\"].to_list())\n",
    "ax.scatter(df_nold_bb_x, df_nold_bb_y, pop ,marker='s',color='blue',alpha=0.5, zorder=10, edgecolor=\"k\")\n",
    "\n",
    "# Stations with lockdown\n",
    "df_ld_rs = df[df[\"Station_Code\"].str[0:2] == \"AM\"]\n",
    "df_ld_rs = df_ld_rs.sort_values(by=\"pop_den_2.5min\")\n",
    "df_ld_rs_x, df_ld_rs_y = map(df_ld_rs[\"longitude\"].to_list(), df_ld_rs[\"latitude\"].to_list())\n",
    "pop = (1000/((df_ld_rs[\"pop_den_2.5min\"]+1)**0.4)).to_list()\n",
    "ax.scatter(df_ld_rs_x, df_ld_rs_y, pop ,marker='^',color='red',alpha=0.8, zorder=10, edgecolor=\"k\", label=\"RS citizen seismometer\")\n",
    "df_ld_bb = df[df[\"Station_Code\"].str[0:2] != \"AM\"]\n",
    "df_ld_bb = df_ld_bb.sort_values(by=\"pop_den_2.5min\")\n",
    "df_ld_bb_x, df_ld_bb_y = map(df_ld_bb[\"longitude\"].to_list(), df_ld_bb[\"latitude\"].to_list())\n",
    "pop = (1000/((df_ld_bb[\"pop_den_2.5min\"]+1)**0.4)).to_list()\n",
    "ax.scatter(df_ld_bb_x, df_ld_bb_y, pop ,marker='s',color='red',alpha=0.8, zorder=10, edgecolor=\"k\", label=\"Broadband seismometer\")\n",
    "\n",
    "for sta_labl in [\n",
    "                 [\"(Fig. 3A)\", \"IC.BJT\", 3000000, 100000],\n",
    "                 [\"(Fig. 3A)\", \"IC.ENH\", 3000000, -500000],\n",
    "                 [\"(Fig. 3A)\", \"IC.MDJ\", 2000000, 900000],\n",
    "                 [\"(Fig. 3B)\", \"BE.UCC\", -950000, 1950000],\n",
    "                 [\"(Fig. 3C)\", \"CU.BBGH\", 1000000, 100000],\n",
    "                 [\"(Fig. 3D)\", \"NZ.HBAZ\", 100000, 1600000],\n",
    "                 [\"(Fig. 3E)\", \"AF.RUDU\", -500000, 1700000],\n",
    "                 [\"(Fig. S2)\", \"II.PALK\", -200000, -1700000],\n",
    "                 [\"(Fig. S3)\", \"LD.CPNY\", 1100000, -1000000],\n",
    "                 [\"(Fig. S4A)\", \"AM.RA2DE\", -1000000, 2200000],\n",
    "                 [\"(Fig. S4B)\", \"AM.R10DC\", -2000000, 2400000],\n",
    "                 [\"(Fig. S4C)\", \"AM.R7FA5\", -3000000, 0],\n",
    "                 [\"(Fig. S5)\", \"NC.MCY\", -3000000, 1000000],\n",
    "                 [\"(Fig. S5)\", \"BW.ZUGS\", 3500000, -500000],\n",
    "                 [\"(Fig. S6)\", \"GR.BFO\", 1500000, 500000],\n",
    "                 [\"(Fig. S7)\", \"AM.R6BB7\", -4000000, 1300000],             \n",
    "                 [\"(Fig. S8)\", \"NE.WES\", 700000, 1400000],\n",
    "                 [\"AM.RBFF6\\n(Fig. S9)\", \"G.UNM\", -4000000, 0],\n",
    "                ]:\n",
    "    df_lab = df[df[\"Station_Code\"] == sta_labl[1]]\n",
    "    x, y = map(df_lab[\"longitude\"].to_list(), df_lab[\"latitude\"].to_list())\n",
    "    ax.annotate(xy=(x[0], y[0]), va=\"center\", xytext=(x[0]+sta_labl[2], y[0]+sta_labl[3]), \n",
    "                s=sta_labl[1]+'\\n' +sta_labl[0], alpha=0.8, fontsize=12,\n",
    "               arrowprops=dict(facecolor='black', shrink=0.05),\n",
    "               bbox=dict(facecolor='white', edgecolor='black', boxstyle='round', alpha=0.9), zorder=20)\n",
    "    \n",
    "pop = [1, 100, 1000, 10000]\n",
    "sizes = [1000/((p+1)**0.4) for p in pop]\n",
    "for i in range(len(pop)):\n",
    "    ax.scatter(-100000000, -100000000, s=sizes[i], alpha=0.5, label=\"Pop. dens.:{:} per 5 km$^2$\".format(pop[i]), marker=\"s\", facecolor=\"gray\", edgecolor=\"k\")\n",
    "\n",
    "handles, labels = ax.get_legend_handles_labels()\n",
    "\n",
    "red_patch = mpatches.Patch(facecolor='red', label='Lockdown effect seen' , edgecolor=\"k\", lw=1)\n",
    "white_patch = mpatches.Patch(facecolor='blue', label='No lockdown effect seen', edgecolor=\"k\", lw=1)\n",
    "handles.append(red_patch)\n",
    "handles.append(white_patch)\n",
    "\n",
    "leg = ax.legend(handles=handles, labelspacing=1.1, loc=\"lower left\", fontsize=12, framealpha=.8)\n",
    "\n",
    "leg.legendHandles[0].set_color('k')\n",
    "leg.legendHandles[0]._sizes = [50]\n",
    "leg.legendHandles[1]._sizes = [50]\n",
    "leg.legendHandles[1].set_color('k')\n",
    "leg.set_zorder(100)\n",
    "plt.tight_layout()\n",
    "plt.savefig(\"Figure1.pdf\", bbox_inches = 'tight')\n",
    "plt.show()\n"
   ]
  },
  {
   "cell_type": "code",
   "execution_count": null,
   "metadata": {},
   "outputs": [],
   "source": []
  }
 ],
 "metadata": {
  "kernelspec": {
   "display_name": "Python 3",
   "language": "python",
   "name": "python3"
  },
  "language_info": {
   "codemirror_mode": {
    "name": "ipython",
    "version": 3
   },
   "file_extension": ".py",
   "mimetype": "text/x-python",
   "name": "python",
   "nbconvert_exporter": "python",
   "pygments_lexer": "ipython3",
   "version": "3.7.6"
  }
 },
 "nbformat": 4,
 "nbformat_minor": 4
}
